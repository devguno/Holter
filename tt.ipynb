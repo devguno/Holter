{
 "cells": [
  {
   "cell_type": "code",
   "execution_count": 1,
   "metadata": {},
   "outputs": [
    {
     "name": "stdout",
     "output_type": "stream",
     "text": [
      "pt_no 컬럼이 추가된 새로운 CSV 파일이 'holter_data_with_pt_no.csv'로 저장되었습니다.\n"
     ]
    }
   ],
   "source": [
    "import pandas as pd\n",
    "\n",
    "# CSV 파일 읽기\n",
    "holter_data = pd.read_csv('holter_data.csv')\n",
    "pt_no_person_id = pd.read_csv('pt_no_person_id.csv')\n",
    "\n",
    "# 두 데이터프레임을 person_id를 기준으로 병합 (merge)\n",
    "merged_data = pd.merge(holter_data, pt_no_person_id, on='person_id', how='left')\n",
    "\n",
    "# 결과를 새로운 CSV 파일로 저장\n",
    "merged_data.to_csv('holter_data_with_pt_no.csv', index=False)\n",
    "\n",
    "print(\"pt_no 컬럼이 추가된 새로운 CSV 파일이 'holter_data_with_pt_no.csv'로 저장되었습니다.\")\n"
   ]
  },
  {
   "cell_type": "code",
   "execution_count": 1,
   "metadata": {},
   "outputs": [
    {
     "name": "stdout",
     "output_type": "stream",
     "text": [
      "새로운 파일이 저장되었습니다: holter_data_with_person_id.csv\n"
     ]
    }
   ],
   "source": [
    "import pandas as pd\n",
    "\n",
    "# CSV 파일 로드\n",
    "holter_data = pd.read_csv('holter_data_pt_no.csv')\n",
    "pt_no_person_id = pd.read_csv('pt_no_person_id.csv')\n",
    "\n",
    "# pt_no를 기준으로 매칭하여 person_id로 대체\n",
    "merged_data = holter_data.merge(pt_no_person_id, on='pt_no', how='left')\n",
    "\n",
    "# 필요하다면 pt_no 컬럼을 삭제하고 person_id로 대체\n",
    "merged_data = merged_data.drop('pt_no', axis=1)\n",
    "\n",
    "# 결과를 새로운 CSV 파일로 저장\n",
    "merged_data.to_csv('holter_data_with_person_id.csv', index=False)\n",
    "\n",
    "print(\"새로운 파일이 저장되었습니다: holter_data_with_person_id.csv\")\n"
   ]
  },
  {
   "cell_type": "code",
   "execution_count": 4,
   "metadata": {},
   "outputs": [
    {
     "name": "stdout",
     "output_type": "stream",
     "text": [
      "총 데이터 개수: 516개\n",
      "매칭된 person_id 개수: 300개\n",
      "매칭되지 않은 person_id 개수: 216개\n",
      "매칭률: 58.14%\n"
     ]
    }
   ],
   "source": [
    "import pandas as pd\n",
    "\n",
    "# CSV 파일 불러오기 (인코딩을 지정)\n",
    "ep_df = pd.read_csv('EP 모음.csv', encoding='ISO-8859-1')  # 또는 'cp949'\n",
    "pt_no_df = pd.read_csv('pt_no_person_id.csv', encoding='ISO-8859-1')  # 또는 'cp949'\n",
    "\n",
    "# 두 데이터프레임을 id와 pt_no 컬럼을 기준으로 병합 (left join)\n",
    "merged_df = pd.merge(ep_df, pt_no_df[['pt_no', 'person_id']], left_on='id', right_on='pt_no', how='left')\n",
    "\n",
    "# 필요 시 pt_no 컬럼 제거\n",
    "merged_df.drop(columns=['pt_no'], inplace=True)\n",
    "\n",
    "# person_id 매칭 여부 확인 (person_id가 NaN이 아닌 경우 매칭된 것으로 간주)\n",
    "total_count = len(merged_df)  # 전체 데이터 개수\n",
    "matched_count = merged_df['person_id'].notna().sum()  # 매칭된 person_id의 개수\n",
    "unmatched_count = total_count - matched_count  # 매칭되지 않은 개수\n",
    "matched_percentage = (matched_count / total_count) * 100  # 매칭된 비율 (%)\n",
    "\n",
    "# 매칭률 출력\n",
    "print(f\"총 데이터 개수: {total_count}개\")\n",
    "print(f\"매칭된 person_id 개수: {matched_count}개\")\n",
    "print(f\"매칭되지 않은 person_id 개수: {unmatched_count}개\")\n",
    "print(f\"매칭률: {matched_percentage:.2f}%\")\n",
    "\n",
    "# 결과 데이터프레임 저장\n",
    "merged_df.to_csv('EP_모음_with_person_id.csv', index=False)\n"
   ]
  }
 ],
 "metadata": {
  "kernelspec": {
   "display_name": "Python 3",
   "language": "python",
   "name": "python3"
  },
  "language_info": {
   "codemirror_mode": {
    "name": "ipython",
    "version": 3
   },
   "file_extension": ".py",
   "mimetype": "text/x-python",
   "name": "python",
   "nbconvert_exporter": "python",
   "pygments_lexer": "ipython3",
   "version": "3.12.0"
  }
 },
 "nbformat": 4,
 "nbformat_minor": 2
}
