{
 "cells": [
  {
   "cell_type": "code",
   "execution_count": 1,
   "metadata": {},
   "outputs": [
    {
     "name": "stdout",
     "output_type": "stream",
     "text": [
      "pt_no 컬럼이 추가된 새로운 CSV 파일이 'holter_data_with_pt_no.csv'로 저장되었습니다.\n"
     ]
    }
   ],
   "source": [
    "import pandas as pd\n",
    "\n",
    "# CSV 파일 읽기\n",
    "holter_data = pd.read_csv('holter_data.csv')\n",
    "pt_no_person_id = pd.read_csv('pt_no_person_id.csv')\n",
    "\n",
    "# 두 데이터프레임을 person_id를 기준으로 병합 (merge)\n",
    "merged_data = pd.merge(holter_data, pt_no_person_id, on='person_id', how='left')\n",
    "\n",
    "# 결과를 새로운 CSV 파일로 저장\n",
    "merged_data.to_csv('holter_data_with_pt_no.csv', index=False)\n",
    "\n",
    "print(\"pt_no 컬럼이 추가된 새로운 CSV 파일이 'holter_data_with_pt_no.csv'로 저장되었습니다.\")\n"
   ]
  },
  {
   "cell_type": "code",
   "execution_count": 1,
   "metadata": {},
   "outputs": [
    {
     "name": "stdout",
     "output_type": "stream",
     "text": [
      "새로운 파일이 저장되었습니다: holter_data_with_person_id.csv\n"
     ]
    }
   ],
   "source": [
    "import pandas as pd\n",
    "\n",
    "# CSV 파일 로드\n",
    "holter_data = pd.read_csv('holter_data_pt_no.csv')\n",
    "pt_no_person_id = pd.read_csv('pt_no_person_id.csv')\n",
    "\n",
    "# pt_no를 기준으로 매칭하여 person_id로 대체\n",
    "merged_data = holter_data.merge(pt_no_person_id, on='pt_no', how='left')\n",
    "\n",
    "# 필요하다면 pt_no 컬럼을 삭제하고 person_id로 대체\n",
    "merged_data = merged_data.drop('pt_no', axis=1)\n",
    "\n",
    "# 결과를 새로운 CSV 파일로 저장\n",
    "merged_data.to_csv('holter_data_with_person_id.csv', index=False)\n",
    "\n",
    "print(\"새로운 파일이 저장되었습니다: holter_data_with_person_id.csv\")\n"
   ]
  }
 ],
 "metadata": {
  "kernelspec": {
   "display_name": "Python 3",
   "language": "python",
   "name": "python3"
  },
  "language_info": {
   "codemirror_mode": {
    "name": "ipython",
    "version": 3
   },
   "file_extension": ".py",
   "mimetype": "text/x-python",
   "name": "python",
   "nbconvert_exporter": "python",
   "pygments_lexer": "ipython3",
   "version": "3.11.9"
  }
 },
 "nbformat": 4,
 "nbformat_minor": 2
}
