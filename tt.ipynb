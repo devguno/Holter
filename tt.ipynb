{
 "cells": [
  {
   "cell_type": "code",
   "execution_count": 1,
   "metadata": {},
   "outputs": [
    {
     "name": "stdout",
     "output_type": "stream",
     "text": [
      "pt_no 컬럼이 추가된 새로운 CSV 파일이 'holter_data_with_pt_no.csv'로 저장되었습니다.\n"
     ]
    }
   ],
   "source": [
    "import pandas as pd\n",
    "\n",
    "# CSV 파일 읽기\n",
    "holter_data = pd.read_csv('holter_data.csv')\n",
    "pt_no_person_id = pd.read_csv('pt_no_person_id.csv')\n",
    "\n",
    "# 두 데이터프레임을 person_id를 기준으로 병합 (merge)\n",
    "merged_data = pd.merge(holter_data, pt_no_person_id, on='person_id', how='left')\n",
    "\n",
    "# 결과를 새로운 CSV 파일로 저장\n",
    "merged_data.to_csv('holter_data_with_pt_no.csv', index=False)\n",
    "\n",
    "print(\"pt_no 컬럼이 추가된 새로운 CSV 파일이 'holter_data_with_pt_no.csv'로 저장되었습니다.\")\n"
   ]
  }
 ],
 "metadata": {
  "kernelspec": {
   "display_name": "Python 3",
   "language": "python",
   "name": "python3"
  },
  "language_info": {
   "codemirror_mode": {
    "name": "ipython",
    "version": 3
   },
   "file_extension": ".py",
   "mimetype": "text/x-python",
   "name": "python",
   "nbconvert_exporter": "python",
   "pygments_lexer": "ipython3",
   "version": "3.12.0"
  }
 },
 "nbformat": 4,
 "nbformat_minor": 2
}
